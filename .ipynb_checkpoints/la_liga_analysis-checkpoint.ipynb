{
 "cells": [
  {
   "cell_type": "code",
   "execution_count": 1,
   "id": "74dd2ee7",
   "metadata": {},
   "outputs": [],
   "source": [
    "from src import data_loader"
   ]
  },
  {
   "cell_type": "code",
   "execution_count": 2,
   "id": "a94b4f74",
   "metadata": {},
   "outputs": [
    {
     "name": "stdout",
     "output_type": "stream",
     "text": [
      "(3040, 65)\n"
     ]
    }
   ],
   "source": [
    "url = 'https://drive.google.com/drive/folders/1O_B3fHgjKmjrYxIoUyutJmd1fuovTLQv'\n",
    "\n",
    "data_loader = data_loader.DataLoader(url=url, dest_folder='datasets')\n",
    "df = data_loader.load_data()\n",
    "print(df.shape)"
   ]
  }
 ],
 "metadata": {
  "kernelspec": {
   "display_name": "Python 3 (ipykernel)",
   "language": "python",
   "name": "python3"
  },
  "language_info": {
   "codemirror_mode": {
    "name": "ipython",
    "version": 3
   },
   "file_extension": ".py",
   "mimetype": "text/x-python",
   "name": "python",
   "nbconvert_exporter": "python",
   "pygments_lexer": "ipython3",
   "version": "3.9.6"
  }
 },
 "nbformat": 4,
 "nbformat_minor": 5
}
